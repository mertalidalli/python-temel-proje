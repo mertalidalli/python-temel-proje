{
 "cells": [
  {
   "cell_type": "code",
   "execution_count": 24,
   "metadata": {},
   "outputs": [
    {
     "name": "stdout",
     "output_type": "stream",
     "text": [
      "[1, 'a', 'cat', 2, 3, 'dog', 4, 5]\n"
     ]
    }
   ],
   "source": [
    "def flatten(i_l, f_l):\n",
    "    if type(i_l) != type([]):\n",
    "        f_l.append(i_l)\n",
    "        return\n",
    "    for i in i_l:\n",
    "        if type(i_l) == type([]):\n",
    "            flatten(i, f_l)\n",
    "    return f_l\n",
    "i_l = [[1, 'a', ['cat'], 2], [[[3]], 'dog'], 4, 5]\n",
    "f_lSpare = []\n",
    "f_l = flatten(i_l, f_lSpare)\n",
    "print(f_l)"
   ]
  }
 ],
 "metadata": {
  "kernelspec": {
   "display_name": "Python 3",
   "language": "python",
   "name": "python3"
  },
  "language_info": {
   "codemirror_mode": {
    "name": "ipython",
    "version": 3
   },
   "file_extension": ".py",
   "mimetype": "text/x-python",
   "name": "python",
   "nbconvert_exporter": "python",
   "pygments_lexer": "ipython3",
   "version": "3.7.4"
  }
 },
 "nbformat": 4,
 "nbformat_minor": 2
}
