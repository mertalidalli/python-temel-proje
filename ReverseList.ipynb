{
 "cells": [
  {
   "cell_type": "code",
   "execution_count": 18,
   "metadata": {},
   "outputs": [
    {
     "name": "stdout",
     "output_type": "stream",
     "text": [
      "[[7, 6, 5], [4, 3], [2, 1]]\n"
     ]
    }
   ],
   "source": [
    "def ReverseList(l):\n",
    "    for i in l:           \n",
    "        if type(i) == type([]):\n",
    "            reversing(i)\n",
    "            if i == l[-1]:\n",
    "                l.reverse()\n",
    "        else:\n",
    "            if i == l[-1]:\n",
    "                l.reverse()\n",
    "            else:\n",
    "                continue\n",
    "    return l\n",
    "l = [[1, 2], [3, 4], [5, 6, 7]]\n",
    "print(reversing(l))"
   ]
  }
 ],
 "metadata": {
  "kernelspec": {
   "display_name": "Python 3",
   "language": "python",
   "name": "python3"
  },
  "language_info": {
   "codemirror_mode": {
    "name": "ipython",
    "version": 3
   },
   "file_extension": ".py",
   "mimetype": "text/x-python",
   "name": "python",
   "nbconvert_exporter": "python",
   "pygments_lexer": "ipython3",
   "version": "3.7.4"
  }
 },
 "nbformat": 4,
 "nbformat_minor": 2
}
